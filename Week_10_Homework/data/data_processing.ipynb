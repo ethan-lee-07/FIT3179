{
 "cells": [
  {
   "cell_type": "markdown",
   "metadata": {},
   "source": [
    "# Data Processing for DV2 Datasets"
   ]
  },
  {
   "cell_type": "markdown",
   "metadata": {},
   "source": [
    "### Create CSV for Choropleth (2)"
   ]
  },
  {
   "cell_type": "markdown",
   "metadata": {},
   "source": [
    "Process Tuberculosis Data"
   ]
  },
  {
   "cell_type": "code",
   "execution_count": 84,
   "metadata": {},
   "outputs": [],
   "source": [
    "import pandas as pd"
   ]
  },
  {
   "cell_type": "code",
   "execution_count": 101,
   "metadata": {},
   "outputs": [],
   "source": [
    "# Read the CSV file\n",
    "df = pd.read_csv(\"Disease/Tuberculosis/TB_burden_countries_2023-09-21.csv\")\n",
    "\n",
    "# Select the desired columns\n",
    "selected_columns = [\"country\", \"iso3\", \"year\", \"e_pop_num\", \"e_inc_num\"]\n",
    "df = df[selected_columns]\n",
    "\n",
    "# Rename columns\n",
    "df.rename(columns={\"e_pop_num\": \"population\", \"e_inc_num\": \"cases\"}, inplace=True)\n",
    "\n",
    "# Add a \"disease\" column with the value \"tuberculosis\"\n",
    "df[\"disease\"] = \"Tuberculosis\"\n",
    "\n",
    "# Filter rows with \"year\" equal to 2021\n",
    "df = df[df[\"year\"] == 2021]\n",
    "\n",
    "# Save the filtered DataFrame as a new CSV\n",
    "df.to_csv(\"Disease/Tuberculosis/TB_cases_2021_processed.csv\", index=False)"
   ]
  },
  {
   "cell_type": "markdown",
   "metadata": {},
   "source": [
    "Process Malaria Data"
   ]
  },
  {
   "cell_type": "code",
   "execution_count": 103,
   "metadata": {},
   "outputs": [],
   "source": [
    "# Read the CSV file\n",
    "df = pd.read_csv(\"Disease/Malaria/malaria_estimated_cases.csv\")\n",
    "\n",
    "# Select the columns\n",
    "selected_columns = [\"Location\", \"SpatialDimValueCode\", \"Period\", \"FactValueNumeric\"]\n",
    "\n",
    "# Rename columns\n",
    "df = df[selected_columns]\n",
    "df = df.rename(columns={\"Location\": \"country\", \"SpatialDimValueCode\": \"iso3\", \"Period\": \"year\", \"FactValueNumeric\": \"cases\"})\n",
    "\n",
    "# Add a \"disease\" column\n",
    "df[\"disease\"] = \"Malaria\"\n",
    "\n",
    "# Filter rows for the year 2021\n",
    "df = df[df[\"year\"] == 2021]\n",
    "\n",
    "# Save the filtered DataFrame to a CSV file\n",
    "df.to_csv(\"Disease/Malaria/malaria_cases_2021_processed.csv\", index=False)"
   ]
  },
  {
   "cell_type": "markdown",
   "metadata": {},
   "source": [
    "Process Measles Data"
   ]
  },
  {
   "cell_type": "code",
   "execution_count": 104,
   "metadata": {},
   "outputs": [],
   "source": [
    "# Read the CSV file\n",
    "df = pd.read_csv(\"Disease/Measles/measles_reported_cases.csv\")\n",
    "\n",
    "# Select the columns\n",
    "selected_columns = [\"Location\", \"SpatialDimValueCode\", \"Period\", \"FactValueNumeric\"]\n",
    "\n",
    "# Rename columns\n",
    "df = df[selected_columns]\n",
    "df = df.rename(columns={\"Location\": \"country\", \"SpatialDimValueCode\": \"iso3\", \"Period\": \"year\", \"FactValueNumeric\": \"cases\"})\n",
    "\n",
    "# Add a \"disease\" column\n",
    "df[\"disease\"] = \"Measles\"\n",
    "\n",
    "# Filter rows for the year 2021\n",
    "df = df[df[\"year\"] == 2021]\n",
    "\n",
    "# Save the filtered DataFrame to a CSV file\n",
    "df.to_csv(\"Disease/Measles/measles_cases_2021_processed.csv\", index=False)"
   ]
  },
  {
   "cell_type": "markdown",
   "metadata": {},
   "source": [
    "Combine Disease Datasets"
   ]
  },
  {
   "cell_type": "code",
   "execution_count": 105,
   "metadata": {},
   "outputs": [],
   "source": [
    "# Read each CSV file into a separate DataFrame\n",
    "df_tb = pd.read_csv(\"Disease/Tuberculosis/TB_cases_2021_processed.csv\")\n",
    "df_malaria = pd.read_csv(\"Disease/Malaria/malaria_cases_2021_processed.csv\")\n",
    "df_measles = pd.read_csv(\"Disease/Measles/measles_cases_2021_processed.csv\")\n",
    "\n",
    "# Merge the dataframes using an outer join to retain all rows\n",
    "merged_df = pd.concat([df_tb, df_malaria, df_measles], ignore_index=True)\n",
    "\n",
    "# Sort the merged dataframe by country, year, and disease\n",
    "merged_df.sort_values(by=[\"country\", \"year\", \"disease\"], inplace=True)\n",
    "\n",
    "# Create a dictionary to store population values for each country and year\n",
    "population_dict = {}\n",
    "\n",
    "# Fill the population dictionary with available values\n",
    "for index, row in merged_df.iterrows():\n",
    "    iso3 = row[\"iso3\"]\n",
    "    year = row[\"year\"]\n",
    "    population = row[\"population\"]\n",
    "    \n",
    "    # Update the population dictionary only if the value is not missing\n",
    "    if not pd.isna(population):\n",
    "        population_dict[(iso3, year)] = population\n",
    "\n",
    "# Update missing population values in the dataframe\n",
    "for index, row in merged_df.iterrows():\n",
    "    iso3 = row[\"iso3\"]\n",
    "    year = row[\"year\"]\n",
    "    \n",
    "    # Check if there is a missing population value for the current country and year\n",
    "    if pd.isna(row[\"population\"]) and (iso3, year) in population_dict:\n",
    "        merged_df.at[index, \"population\"] = population_dict[(iso3, year)]\n",
    "\n",
    "# Reset the index\n",
    "merged_df.reset_index(drop=True, inplace=True)\n",
    "\n",
    "# Drop rows with missing values\n",
    "merged_df.dropna(inplace=True)\n",
    "\n",
    "# Calculate cases per 100,000 population and add it as a new column\n",
    "merged_df['cases_per_100k'] = (merged_df['cases'] / merged_df['population']) * 100000\n",
    "\n",
    "# Save the merged DataFrame to a CSV file\n",
    "merged_df.to_csv(\"Disease/disease_incidence_processed.csv\", index=False)"
   ]
  },
  {
   "cell_type": "markdown",
   "metadata": {},
   "source": [
    "### Make CSV for Bubble Chart"
   ]
  },
  {
   "cell_type": "markdown",
   "metadata": {},
   "source": [
    "Process Tuberculosis Data (all years)"
   ]
  },
  {
   "cell_type": "code",
   "execution_count": 65,
   "metadata": {},
   "outputs": [
    {
     "data": {
      "text/html": [
       "<div>\n",
       "<style scoped>\n",
       "    .dataframe tbody tr th:only-of-type {\n",
       "        vertical-align: middle;\n",
       "    }\n",
       "\n",
       "    .dataframe tbody tr th {\n",
       "        vertical-align: top;\n",
       "    }\n",
       "\n",
       "    .dataframe thead th {\n",
       "        text-align: right;\n",
       "    }\n",
       "</style>\n",
       "<table border=\"1\" class=\"dataframe\">\n",
       "  <thead>\n",
       "    <tr style=\"text-align: right;\">\n",
       "      <th></th>\n",
       "      <th>country</th>\n",
       "      <th>iso3</th>\n",
       "      <th>year</th>\n",
       "      <th>population</th>\n",
       "      <th>cases_per_100k</th>\n",
       "    </tr>\n",
       "  </thead>\n",
       "  <tbody>\n",
       "    <tr>\n",
       "      <th>0</th>\n",
       "      <td>Afghanistan</td>\n",
       "      <td>AFG</td>\n",
       "      <td>2010</td>\n",
       "      <td>28189672</td>\n",
       "      <td>189.0</td>\n",
       "    </tr>\n",
       "    <tr>\n",
       "      <th>1</th>\n",
       "      <td>Afghanistan</td>\n",
       "      <td>AFG</td>\n",
       "      <td>2011</td>\n",
       "      <td>29249157</td>\n",
       "      <td>189.0</td>\n",
       "    </tr>\n",
       "    <tr>\n",
       "      <th>2</th>\n",
       "      <td>Afghanistan</td>\n",
       "      <td>AFG</td>\n",
       "      <td>2012</td>\n",
       "      <td>30466479</td>\n",
       "      <td>189.0</td>\n",
       "    </tr>\n",
       "    <tr>\n",
       "      <th>3</th>\n",
       "      <td>Afghanistan</td>\n",
       "      <td>AFG</td>\n",
       "      <td>2013</td>\n",
       "      <td>31541209</td>\n",
       "      <td>189.0</td>\n",
       "    </tr>\n",
       "    <tr>\n",
       "      <th>4</th>\n",
       "      <td>Afghanistan</td>\n",
       "      <td>AFG</td>\n",
       "      <td>2014</td>\n",
       "      <td>32716210</td>\n",
       "      <td>189.0</td>\n",
       "    </tr>\n",
       "  </tbody>\n",
       "</table>\n",
       "</div>"
      ],
      "text/plain": [
       "       country iso3  year  population  cases_per_100k\n",
       "0  Afghanistan  AFG  2010    28189672           189.0\n",
       "1  Afghanistan  AFG  2011    29249157           189.0\n",
       "2  Afghanistan  AFG  2012    30466479           189.0\n",
       "3  Afghanistan  AFG  2013    31541209           189.0\n",
       "4  Afghanistan  AFG  2014    32716210           189.0"
      ]
     },
     "execution_count": 65,
     "metadata": {},
     "output_type": "execute_result"
    }
   ],
   "source": [
    "# Read the CSV file\n",
    "tb = pd.read_csv(\"Disease/Tuberculosis/TB_burden_countries_2023-09-21.csv\")\n",
    "\n",
    "# Select the desired columns\n",
    "selected_columns = [\"country\", \"iso3\", \"year\", \"e_pop_num\", \"e_inc_100k\"]\n",
    "tb = tb[selected_columns]\n",
    "\n",
    "# Rename columns\n",
    "tb.rename(columns={\"e_pop_num\": \"population\", \"e_inc_100k\": \"cases_per_100k\"}, inplace=True)\n",
    "\n",
    "# Filter rows for the year 2010 onwards\n",
    "tb = tb[tb[\"year\"] >= 2010]\n",
    "\n",
    "# Reset the index\n",
    "tb.reset_index(drop=True, inplace=True)\n",
    "\n",
    "tb.head()"
   ]
  },
  {
   "cell_type": "markdown",
   "metadata": {},
   "source": [
    "Process GDP Data"
   ]
  },
  {
   "cell_type": "code",
   "execution_count": 63,
   "metadata": {},
   "outputs": [
    {
     "data": {
      "text/html": [
       "<div>\n",
       "<style scoped>\n",
       "    .dataframe tbody tr th:only-of-type {\n",
       "        vertical-align: middle;\n",
       "    }\n",
       "\n",
       "    .dataframe tbody tr th {\n",
       "        vertical-align: top;\n",
       "    }\n",
       "\n",
       "    .dataframe thead th {\n",
       "        text-align: right;\n",
       "    }\n",
       "</style>\n",
       "<table border=\"1\" class=\"dataframe\">\n",
       "  <thead>\n",
       "    <tr style=\"text-align: right;\">\n",
       "      <th></th>\n",
       "      <th>country</th>\n",
       "      <th>iso3</th>\n",
       "      <th>year</th>\n",
       "      <th>gdp_per_capita</th>\n",
       "    </tr>\n",
       "  </thead>\n",
       "  <tbody>\n",
       "    <tr>\n",
       "      <th>0</th>\n",
       "      <td>Afghanistan</td>\n",
       "      <td>AFG</td>\n",
       "      <td>2010</td>\n",
       "      <td>2026.1638</td>\n",
       "    </tr>\n",
       "    <tr>\n",
       "      <th>1</th>\n",
       "      <td>Afghanistan</td>\n",
       "      <td>AFG</td>\n",
       "      <td>2011</td>\n",
       "      <td>1961.0963</td>\n",
       "    </tr>\n",
       "    <tr>\n",
       "      <th>2</th>\n",
       "      <td>Afghanistan</td>\n",
       "      <td>AFG</td>\n",
       "      <td>2012</td>\n",
       "      <td>2122.8308</td>\n",
       "    </tr>\n",
       "    <tr>\n",
       "      <th>3</th>\n",
       "      <td>Afghanistan</td>\n",
       "      <td>AFG</td>\n",
       "      <td>2013</td>\n",
       "      <td>2165.3408</td>\n",
       "    </tr>\n",
       "    <tr>\n",
       "      <th>4</th>\n",
       "      <td>Afghanistan</td>\n",
       "      <td>AFG</td>\n",
       "      <td>2014</td>\n",
       "      <td>2144.4497</td>\n",
       "    </tr>\n",
       "  </tbody>\n",
       "</table>\n",
       "</div>"
      ],
      "text/plain": [
       "       country iso3  year  gdp_per_capita\n",
       "0  Afghanistan  AFG  2010       2026.1638\n",
       "1  Afghanistan  AFG  2011       1961.0963\n",
       "2  Afghanistan  AFG  2012       2122.8308\n",
       "3  Afghanistan  AFG  2013       2165.3408\n",
       "4  Afghanistan  AFG  2014       2144.4497"
      ]
     },
     "execution_count": 63,
     "metadata": {},
     "output_type": "execute_result"
    }
   ],
   "source": [
    "# Read the CSV file\n",
    "gdp = pd.read_csv(\"Economy/gdp-per-capita-worldbank.csv\")\n",
    "\n",
    "# Rename columns\n",
    "gdp = gdp.rename(columns={\"Entity\": \"country\", \"Code\": \"iso3\", \"Year\": \"year\", \"GDP per capita, PPP (constant 2017 international $)\": \"gdp_per_capita\"})\n",
    "\n",
    "# Filter rows for the year 2010 onwards\n",
    "gdp = gdp[gdp[\"year\"] >= 2010]\n",
    "\n",
    "# Reset the index\n",
    "gdp.reset_index(drop=True, inplace=True)\n",
    "\n",
    "gdp.head()"
   ]
  },
  {
   "cell_type": "markdown",
   "metadata": {},
   "source": [
    "Process Continent Mapping"
   ]
  },
  {
   "cell_type": "code",
   "execution_count": 72,
   "metadata": {},
   "outputs": [
    {
     "data": {
      "text/html": [
       "<div>\n",
       "<style scoped>\n",
       "    .dataframe tbody tr th:only-of-type {\n",
       "        vertical-align: middle;\n",
       "    }\n",
       "\n",
       "    .dataframe tbody tr th {\n",
       "        vertical-align: top;\n",
       "    }\n",
       "\n",
       "    .dataframe thead th {\n",
       "        text-align: right;\n",
       "    }\n",
       "</style>\n",
       "<table border=\"1\" class=\"dataframe\">\n",
       "  <thead>\n",
       "    <tr style=\"text-align: right;\">\n",
       "      <th></th>\n",
       "      <th>Entity</th>\n",
       "      <th>iso3</th>\n",
       "      <th>year</th>\n",
       "      <th>continent</th>\n",
       "    </tr>\n",
       "  </thead>\n",
       "  <tbody>\n",
       "    <tr>\n",
       "      <th>0</th>\n",
       "      <td>Abkhazia</td>\n",
       "      <td>OWID_ABK</td>\n",
       "      <td>2015</td>\n",
       "      <td>Asia</td>\n",
       "    </tr>\n",
       "    <tr>\n",
       "      <th>1</th>\n",
       "      <td>Afghanistan</td>\n",
       "      <td>AFG</td>\n",
       "      <td>2015</td>\n",
       "      <td>Asia</td>\n",
       "    </tr>\n",
       "    <tr>\n",
       "      <th>2</th>\n",
       "      <td>Akrotiri and Dhekelia</td>\n",
       "      <td>OWID_AKD</td>\n",
       "      <td>2015</td>\n",
       "      <td>Asia</td>\n",
       "    </tr>\n",
       "    <tr>\n",
       "      <th>3</th>\n",
       "      <td>Aland Islands</td>\n",
       "      <td>ALA</td>\n",
       "      <td>2015</td>\n",
       "      <td>Europe</td>\n",
       "    </tr>\n",
       "    <tr>\n",
       "      <th>4</th>\n",
       "      <td>Albania</td>\n",
       "      <td>ALB</td>\n",
       "      <td>2015</td>\n",
       "      <td>Europe</td>\n",
       "    </tr>\n",
       "  </tbody>\n",
       "</table>\n",
       "</div>"
      ],
      "text/plain": [
       "                  Entity      iso3  year continent\n",
       "0               Abkhazia  OWID_ABK  2015      Asia\n",
       "1            Afghanistan       AFG  2015      Asia\n",
       "2  Akrotiri and Dhekelia  OWID_AKD  2015      Asia\n",
       "3          Aland Islands       ALA  2015    Europe\n",
       "4                Albania       ALB  2015    Europe"
      ]
     },
     "execution_count": 72,
     "metadata": {},
     "output_type": "execute_result"
    }
   ],
   "source": [
    "# Read the CSV file\n",
    "continents = pd.read_csv(\"Economy/continents-according-to-our-world-in-data.csv\")\n",
    "\n",
    "# Rename columns\n",
    "continents = continents.rename(columns={\"Code\": \"iso3\", \"Year\": \"year\", \"Continent\": \"continent\"})"
   ]
  },
  {
   "cell_type": "markdown",
   "metadata": {},
   "source": [
    "Merge Data Frames"
   ]
  },
  {
   "cell_type": "code",
   "execution_count": 81,
   "metadata": {},
   "outputs": [],
   "source": [
    "# Merge the 'gdp' DataFrame with the 'tb' DataFrame based on 'iso3' and 'year'\n",
    "merged_df = tb.merge(gdp[['iso3', 'year', 'gdp_per_capita']], on=['iso3', 'year'], how='inner')\n",
    "\n",
    "# Merge the Dataframe with the 'continents' DataFrame based on \n",
    "merged_df = merged_df.merge(continents[['iso3', 'continent']], on=['iso3'], how='inner')\n",
    "merged_df.head()\n",
    "\n",
    "# Save the merged DataFrame to a CSV file\n",
    "merged_df.to_csv(\"Economy/tuberculosis_gdp_processed.csv\", index=False)"
   ]
  },
  {
   "cell_type": "code",
   "execution_count": 83,
   "metadata": {},
   "outputs": [
    {
     "data": {
      "text/plain": [
       "count    2.290000e+03\n",
       "mean     3.822475e+07\n",
       "std      1.437455e+08\n",
       "min      1.024100e+04\n",
       "25%      1.432965e+06\n",
       "50%      7.365073e+06\n",
       "75%      2.641980e+07\n",
       "max      1.425893e+09\n",
       "Name: population, dtype: float64"
      ]
     },
     "execution_count": 83,
     "metadata": {},
     "output_type": "execute_result"
    }
   ],
   "source": [
    "merged_df['population'].describe()"
   ]
  }
 ],
 "metadata": {
  "kernelspec": {
   "display_name": ".venv",
   "language": "python",
   "name": "python3"
  },
  "language_info": {
   "codemirror_mode": {
    "name": "ipython",
    "version": 3
   },
   "file_extension": ".py",
   "mimetype": "text/x-python",
   "name": "python",
   "nbconvert_exporter": "python",
   "pygments_lexer": "ipython3",
   "version": "3.11.4"
  },
  "orig_nbformat": 4
 },
 "nbformat": 4,
 "nbformat_minor": 2
}
